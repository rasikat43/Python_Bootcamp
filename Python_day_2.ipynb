{
 "cells": [
  {
   "cell_type": "markdown",
   "id": "841bc0c7",
   "metadata": {},
   "source": [
    "# PYTHON DATA TYPES\n",
    "\n",
    "1. int\n",
    "2. Float\n",
    "3. Complex\n",
    "4. String\n",
    "\n",
    "5. List\n",
    "6. Tuple\n",
    "7. Set\n",
    "8. Dictionary"
   ]
  },
  {
   "cell_type": "code",
   "execution_count": 2,
   "id": "2df34a30",
   "metadata": {},
   "outputs": [
    {
     "data": {
      "text/plain": [
       "int"
      ]
     },
     "execution_count": 2,
     "metadata": {},
     "output_type": "execute_result"
    }
   ],
   "source": [
    "#int\n",
    "my_int = 10\n",
    "type(my_int)"
   ]
  },
  {
   "cell_type": "code",
   "execution_count": 3,
   "id": "0bc2c331",
   "metadata": {},
   "outputs": [
    {
     "data": {
      "text/plain": [
       "float"
      ]
     },
     "execution_count": 3,
     "metadata": {},
     "output_type": "execute_result"
    }
   ],
   "source": [
    "#float\n",
    "my_float = 10.5\n",
    "type(my_float)"
   ]
  },
  {
   "cell_type": "markdown",
   "id": "a738357a",
   "metadata": {},
   "source": [
    "# Operations on Numerical Data Types\n",
    "1. Arithmatic\n",
    "2. Assignment\n",
    "3. Boolean\n",
    "4. Comparison\n",
    "5. Logical "
   ]
  },
  {
   "cell_type": "markdown",
   "id": "b6fff68e",
   "metadata": {},
   "source": [
    "# Division\n",
    "1. Integer division\n",
    "\n",
    "    a. Returns integer only\n",
    "    \n",
    "    b. It uses // operator\n",
    "    \n",
    "    c. It only returns the quotient of the division\n",
    "    \n",
    "    \n",
    "2. Float Division\n",
    "\n",
    "    a. Returns Float \n",
    "    \n",
    "    b. It uses / operator\n",
    "    \n",
    "    c. It returns the complete division"
   ]
  },
  {
   "cell_type": "code",
   "execution_count": 1,
   "id": "b0d8a6e1",
   "metadata": {},
   "outputs": [
    {
     "name": "stdout",
     "output_type": "stream",
     "text": [
      "14\n",
      "6\n",
      "40\n",
      "2\n",
      "2.5\n",
      "10000\n"
     ]
    }
   ],
   "source": [
    "my_int = 10\n",
    "print(my_int + 4) #Addition\n",
    "print(my_int - 4) #Substration\n",
    "print(my_int * 4) #Multiplication\n",
    "print(my_int // 4) #Int division\n",
    "print(my_int / 4) #Float division\n",
    "print(my_int ** 4) #Power"
   ]
  },
  {
   "cell_type": "code",
   "execution_count": 2,
   "id": "8b932de0",
   "metadata": {},
   "outputs": [
    {
     "name": "stdout",
     "output_type": "stream",
     "text": [
      "14.5\n",
      "6.5\n",
      "42.0\n",
      "2.0\n",
      "2.625\n",
      "12155.0625\n"
     ]
    }
   ],
   "source": [
    "my_float = 10.5\n",
    "print(my_float + 4) #Addition\n",
    "print(my_float - 4) #Substration\n",
    "print(my_float * 4) #Multiplication\n",
    "print(my_float // 4) #Int division\n",
    "print(my_float / 4) #Float division\n",
    "print(my_float ** 4) #Power"
   ]
  },
  {
   "cell_type": "code",
   "execution_count": 32,
   "id": "46e1da31",
   "metadata": {},
   "outputs": [
    {
     "data": {
      "text/plain": [
       "20"
      ]
     },
     "execution_count": 32,
     "metadata": {},
     "output_type": "execute_result"
    }
   ],
   "source": [
    "#Assignment Operator\n",
    "my_int+=10\n",
    "my_int"
   ]
  },
  {
   "cell_type": "code",
   "execution_count": 5,
   "id": "fcc73bd1",
   "metadata": {},
   "outputs": [
    {
     "name": "stdout",
     "output_type": "stream",
     "text": [
      "False\n",
      "False\n"
     ]
    }
   ],
   "source": [
    "#Boolean Operator\n",
    "my_bool_float = 0.0\n",
    "my_bool_int = 0\n",
    "print(bool(my_bool_float))\n",
    "print(bool(my_bool_int))"
   ]
  },
  {
   "cell_type": "markdown",
   "id": "1a875d4c",
   "metadata": {},
   "source": [
    "# Comaprison operators\n",
    "\n",
    "    ==\n",
    "\n",
    "    !=\n",
    "\n",
    "    <=\n",
    "\n",
    "    >=\n",
    "\n",
    "    >\n",
    "\n",
    "    <"
   ]
  },
  {
   "cell_type": "code",
   "execution_count": 6,
   "id": "ca73ca81",
   "metadata": {},
   "outputs": [
    {
     "name": "stdout",
     "output_type": "stream",
     "text": [
      "False\n",
      "True\n",
      "False\n",
      "True\n",
      "False\n",
      "True\n"
     ]
    }
   ],
   "source": [
    "val_1 = 10\n",
    "val_2 = 11\n",
    "\n",
    "print(val_1 == val_2) #Equals\n",
    "print(val_1 <= val_2) #Less than or equals\n",
    "print(val_1 >= val_2) #Greater than or equals\n",
    "print(val_1 != val_2) #Not Equals\n",
    "print(val_1 > val_2) #Greater than\n",
    "print(val_1 < val_2) #less than"
   ]
  },
  {
   "cell_type": "code",
   "execution_count": 49,
   "id": "1f1eb478",
   "metadata": {},
   "outputs": [
    {
     "name": "stdout",
     "output_type": "stream",
     "text": [
      "False\n"
     ]
    }
   ],
   "source": [
    "#Logical Operator\n",
    "bool1 = False\n",
    "bool2 = True\n",
    "\n",
    "print(not bool2)"
   ]
  },
  {
   "cell_type": "markdown",
   "id": "846daa0f",
   "metadata": {},
   "source": [
    "# String \n",
    "\n",
    "1. We enclose it in single/double quotes\n",
    "2. It takes bytes according to the number of character"
   ]
  },
  {
   "cell_type": "markdown",
   "id": "218697eb",
   "metadata": {},
   "source": [
    "# Slicing\n",
    "\n",
    "1. Indexing\n",
    "\n",
    "    a. Starts from 0\n",
    "    \n",
    "    b. Last index is always one less that the total length\n",
    "    \n",
    "2. Slicing\n",
    "\n",
    "    a. cutting down the string accorinng to our need"
   ]
  },
  {
   "cell_type": "code",
   "execution_count": 8,
   "id": "4861cbad",
   "metadata": {},
   "outputs": [
    {
     "name": "stdout",
     "output_type": "stream",
     "text": [
      "Hello Python\n",
      "H  \n",
      "ello Python\n",
      "Hello Pytho\n",
      "llo P\n",
      "Hello Python Language\n",
      "Hello World\n",
      "Hello World\n"
     ]
    }
   ],
   "source": [
    "string = \"Hello Python\"\n",
    "\n",
    "print(string)\n",
    "\n",
    "print(string[0], string[5]) #Accesing chars of a string\n",
    "\n",
    "print(string[1:]) #Forward slicing\n",
    "\n",
    "print(string[:-1]) #Backward slicing\n",
    "\n",
    "print(string[2:7]) #Getting middle of a string\n",
    "\n",
    "print(string + \" Language\") #Concating the string\n",
    "\n",
    "string1 = \" Hello World\"\n",
    "string1 = string1.strip() #Strip function to remove the spaces \n",
    "print(string1)\n",
    "\n",
    "sub_string1,sub_string2 = string1.split(\" \") #Split function to split the string by space\n",
    "print(sub_string1,sub_string2)"
   ]
  },
  {
   "cell_type": "markdown",
   "id": "e08ecbaf",
   "metadata": {},
   "source": [
    "# List\n",
    "\n",
    "1. collective datatype\n",
    "2. To initiate list we use []\n",
    "3. We can add any data type in list\n",
    "4. We have functions like sort, append and sum in list"
   ]
  },
  {
   "cell_type": "code",
   "execution_count": 10,
   "id": "535d1695",
   "metadata": {},
   "outputs": [
    {
     "name": "stdout",
     "output_type": "stream",
     "text": [
      "[2, 1]\n",
      "2\n",
      "[2, 1, 3]\n",
      "[2, 1, 3, 'Hello']\n",
      "[2, 1, 3, 'Hello', [1, 2]]\n",
      "[7, 1, 3, 'Hello', [1, 2]]\n",
      "[2, 4, 4, 5, 9, 9]\n",
      "33\n"
     ]
    }
   ],
   "source": [
    "my_list = [2,1]\n",
    "print(my_list)\n",
    "\n",
    "print(my_list[0]) #Accesing elements of list\n",
    "\n",
    "my_list.append(3) #Append function\n",
    "print(my_list)\n",
    "\n",
    "my_list.append(\"Hello\")#Appending different data type\n",
    "print(my_list)\n",
    "\n",
    "my_list.append([1,2]) #Appending another list in a list\n",
    "print(my_list)\n",
    "\n",
    "my_list[0] = 7 #Changing the value of a list after assignment\n",
    "print(my_list)\n",
    "\n",
    "sub_list = [9,5,4,2,9,4]\n",
    "\n",
    "sub_list = sorted(sub_list)#Sorting the list\n",
    "print(sub_list)\n",
    "\n",
    "print(sum(sub_list))#Sum function"
   ]
  },
  {
   "cell_type": "markdown",
   "id": "9a54db1f",
   "metadata": {},
   "source": [
    "# Tuple\n",
    "\n",
    "1. Collective Datatype\n",
    "2. Immutable\n",
    "3. It is enclosed in parathesis"
   ]
  },
  {
   "cell_type": "code",
   "execution_count": 11,
   "id": "b524d12f",
   "metadata": {},
   "outputs": [
    {
     "name": "stdout",
     "output_type": "stream",
     "text": [
      "(1, 2, 3, 'Hello')\n",
      "1\n",
      "[1, 3, 4]\n",
      "8\n"
     ]
    }
   ],
   "source": [
    "my_tuple = (1,2,3, \"Hello\")\n",
    "print(my_tuple)\n",
    "\n",
    "print(my_tuple[0]) #Accessing elements\n",
    "\n",
    "sub_tuple = (1,3,4)\n",
    "print(sorted(sub_tuple)) #Sort unction\n",
    "\n",
    "print(sum(sub_tuple))#Sum function"
   ]
  },
  {
   "cell_type": "markdown",
   "id": "7770bf5e",
   "metadata": {},
   "source": [
    "# Set\n",
    "\n",
    "1. Collective Datatype\n",
    "2. It doesn't allow repeated values\n",
    "3. Mutable\n",
    "4. Defined in {}\n",
    "5. Automatically sorted"
   ]
  },
  {
   "cell_type": "code",
   "execution_count": 16,
   "id": "ea0ef68a",
   "metadata": {},
   "outputs": [
    {
     "name": "stdout",
     "output_type": "stream",
     "text": [
      "{1, 2, 3, 4, 5}\n",
      "{4, 5, 6}\n"
     ]
    }
   ],
   "source": [
    "set1 = {4,1,2,3,5}\n",
    "print(set1)\n",
    "\n",
    "set2 = {4,4,5,5,6,6} #Repeat values not allowed so they will be discarded\n",
    "print(set2)"
   ]
  },
  {
   "cell_type": "markdown",
   "id": "538243bc",
   "metadata": {},
   "source": [
    "# Dictionary\n",
    "\n",
    "1. Collective Datatype\n",
    "2. stores Key value pairs \n",
    "3. Keys can't be repeated\n",
    "4. Stored in curly braces"
   ]
  },
  {
   "cell_type": "code",
   "execution_count": 18,
   "id": "d05377ac",
   "metadata": {},
   "outputs": [
    {
     "name": "stdout",
     "output_type": "stream",
     "text": [
      "dict_keys([1, 2, 3])\n",
      "dict_values(['Mango', 'Banana', 'Apple'])\n",
      "Banana\n",
      "dict_items([(1, 'Mango'), (2, 'Banana'), (3, 'Apple')])\n",
      "{1: 'Mango', 2: 'Banana', 3: 'Apple'}\n"
     ]
    }
   ],
   "source": [
    "my_dict = {\n",
    "    1 : \"Mango\",\n",
    "    2 : \"Banana\",\n",
    "    3 : \"Apple\"\n",
    "}\n",
    "\n",
    "print(my_dict.keys()) #Printing the keys \n",
    "print(my_dict.values()) #Printing the values\n",
    "print(my_dict.get(2)) #Getting value by key\n",
    "print(my_dict.items()) #Getting whole dict items with each key value pair in tuple\n",
    "print(my_dict)"
   ]
  },
  {
   "cell_type": "markdown",
   "id": "2179902e",
   "metadata": {},
   "source": [
    "# "
   ]
  }
 ],
 "metadata": {
  "kernelspec": {
   "display_name": "Python 3 (ipykernel)",
   "language": "python",
   "name": "python3"
  },
  "language_info": {
   "codemirror_mode": {
    "name": "ipython",
    "version": 3
   },
   "file_extension": ".py",
   "mimetype": "text/x-python",
   "name": "python",
   "nbconvert_exporter": "python",
   "pygments_lexer": "ipython3",
   "version": "3.11.5"
  }
 },
 "nbformat": 4,
 "nbformat_minor": 5
}
