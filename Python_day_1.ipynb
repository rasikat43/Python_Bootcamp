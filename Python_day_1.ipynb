{
 "cells": [
  {
   "cell_type": "markdown",
   "id": "5219a91c",
   "metadata": {},
   "source": [
    "# What is Python?\n",
    "\n",
    "-Open source Language\n",
    "\n",
    "-Supports OOPS Concept\n",
    "\n",
    "-Interpreter Based Language\n",
    "\n",
    "Python is a widely used language for scripting, Data Science, Analytics, Cyber Security and development."
   ]
  },
  {
   "cell_type": "markdown",
   "id": "4e4ae9f1",
   "metadata": {},
   "source": [
    "# GOOD CODER HABITS\n",
    "\n",
    "1. Keep the code clean. Use appropriate orientation and keep space after every block of code.\n",
    "2. Use Comments before every block to explain what that block of code is doing and what output we expect from it.\n",
    "3. Give meaningful name to the variables. Avoid using x,y,a,b etc. Make the code readable.\n",
    "4. Use error handling for every block to avoid breaking of code.\n"
   ]
  },
  {
   "cell_type": "code",
   "execution_count": 4,
   "id": "17fe2f52",
   "metadata": {},
   "outputs": [
    {
     "name": "stdout",
     "output_type": "stream",
     "text": [
      "Hello world\n"
     ]
    }
   ],
   "source": [
    "#Print function is used to return the output in python\n",
    "print(\"Hello world\")"
   ]
  },
  {
   "cell_type": "code",
   "execution_count": 5,
   "id": "c0833c27",
   "metadata": {},
   "outputs": [
    {
     "name": "stdout",
     "output_type": "stream",
     "text": [
      "10\n"
     ]
    }
   ],
   "source": [
    "#Assignment Of Variable\n",
    "number = 10\n",
    "print(number)"
   ]
  },
  {
   "cell_type": "code",
   "execution_count": 6,
   "id": "b1ea3e04",
   "metadata": {},
   "outputs": [
    {
     "name": "stdout",
     "output_type": "stream",
     "text": [
      "20\n"
     ]
    }
   ],
   "source": [
    "#Printing the variable with the update without actually updating the variable\n",
    "print(number+10)"
   ]
  },
  {
   "cell_type": "code",
   "execution_count": 7,
   "id": "3c238fa9",
   "metadata": {},
   "outputs": [
    {
     "name": "stdout",
     "output_type": "stream",
     "text": [
      "20\n"
     ]
    }
   ],
   "source": [
    "#Updating the Actual value of variable and printing the statement\n",
    "number = number+10\n",
    "print(number)"
   ]
  },
  {
   "cell_type": "code",
   "execution_count": null,
   "id": "ec5910cd",
   "metadata": {},
   "outputs": [],
   "source": []
  }
 ],
 "metadata": {
  "kernelspec": {
   "display_name": "Python 3 (ipykernel)",
   "language": "python",
   "name": "python3"
  },
  "language_info": {
   "codemirror_mode": {
    "name": "ipython",
    "version": 3
   },
   "file_extension": ".py",
   "mimetype": "text/x-python",
   "name": "python",
   "nbconvert_exporter": "python",
   "pygments_lexer": "ipython3",
   "version": "3.11.5"
  }
 },
 "nbformat": 4,
 "nbformat_minor": 5
}
